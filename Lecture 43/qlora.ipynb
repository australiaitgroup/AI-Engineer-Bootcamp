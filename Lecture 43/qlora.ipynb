{
 "cells": [
  {
   "cell_type": "code",
   "execution_count": 3,
   "metadata": {},
   "outputs": [
    {
     "name": "stdout",
     "output_type": "stream",
     "text": [
      "WARNING: Failed to find MSVC.\n"
     ]
    }
   ],
   "source": [
    "import os\n",
    "import torch\n",
    "from datasets import load_dataset, Dataset\n",
    "from torch.utils.data import DataLoader\n",
    "import transformers\n",
    "from transformers import (\n",
    "    AutoModelForCausalLM,\n",
    "    AutoTokenizer,\n",
    "    BitsAndBytesConfig,\n",
    "    TrainingArguments,\n",
    "    pipeline,\n",
    ")\n",
    "from peft import LoraConfig, get_peft_model, prepare_model_for_kbit_training, PeftModel,PeftConfig\n",
    "import os\n",
    "import gc\n",
    "gc.collect()\n",
    "torch.cuda.empty_cache()"
   ]
  },
  {
   "cell_type": "code",
   "execution_count": 5,
   "metadata": {},
   "outputs": [
    {
     "name": "stdout",
     "output_type": "stream",
     "text": [
      "4GB\n",
      "{0: '4GB'}\n"
     ]
    }
   ],
   "source": [
    "os.environ['HF_HOME'] = 'cache/'\n",
    "os.environ['CUDA_VISIBLE_DEVICES'] = '0'\n",
    "os.environ['CUDA_LAUNCH_BLOCKING'] = \"1\"\n",
    "os.environ['TORCH_USE_CUDA_DSA']= \"1\"\n",
    "os.environ['TRANSFORMERS_CACHE'] = 'cache/'\n",
    "\n",
    "free_in_GB = int(torch.cuda.mem_get_info()[0] / 1024**3)\n",
    "max_memory = f\"{free_in_GB-2}GB\"\n",
    "print(max_memory)\n",
    "\n",
    "n_gpus = torch.cuda.device_count()\n",
    "max_memory = {i: max_memory for i in range(n_gpus)}\n",
    "print(max_memory)"
   ]
  },
  {
   "cell_type": "code",
   "execution_count": 6,
   "metadata": {},
   "outputs": [],
   "source": [
    "train_dataset = Dataset.from_json('data/mmlu/five_shot_mmlu_test.json').select(range(50))\n",
    "val_dataset = Dataset.from_json('data/mmlu/five_shot_mmlu_val.json').select(range(50))"
   ]
  },
  {
   "cell_type": "code",
   "execution_count": 7,
   "metadata": {},
   "outputs": [
    {
     "name": "stdout",
     "output_type": "stream",
     "text": [
      "1\n",
      "GPU 0: NVIDIA GeForce RTX 4070 Laptop GPU\n"
     ]
    }
   ],
   "source": [
    "print(torch.cuda.device_count())\n",
    "for i in range(torch.cuda.device_count()):\n",
    "    print(f\"GPU {i}: {torch.cuda.get_device_name(i)}\")"
   ]
  },
  {
   "cell_type": "code",
   "execution_count": 8,
   "metadata": {},
   "outputs": [],
   "source": [
    "PROMPT_TEMPLATE = \"\"\"\n",
    "\n",
    "### Question:\n",
    "{question}\n",
    "\n",
    "### Response:\n",
    "{output}\"\"\"\n",
    "\n",
    "\n",
    "def apply_prompt_template(row):\n",
    "    prompt = PROMPT_TEMPLATE.format(\n",
    "        question=row[\"input\"],\n",
    "        output=row[\"output\"],\n",
    "    )\n",
    "    return {\"prompt\": prompt}\n",
    "\n",
    "train_dataset = train_dataset.map(apply_prompt_template)\n",
    "val_dataset = val_dataset.map(apply_prompt_template)\n"
   ]
  },
  {
   "cell_type": "code",
   "execution_count": 9,
   "metadata": {},
   "outputs": [
    {
     "data": {
      "application/vnd.jupyter.widget-view+json": {
       "model_id": "cb61c116aae744d7bd9caef1997b8ade",
       "version_major": 2,
       "version_minor": 0
      },
      "text/plain": [
       "Map:   0%|          | 0/50 [00:00<?, ? examples/s]"
      ]
     },
     "metadata": {},
     "output_type": "display_data"
    }
   ],
   "source": [
    "base_model_id = \"HuggingFaceTB/SmolLM2-1.7B\"\n",
    "\n",
    "# You can use a different max length if your custom dataset has shorter/longer input sequences.\n",
    "MAX_LENGTH = 256\n",
    "\n",
    "tokenizer = AutoTokenizer.from_pretrained(\n",
    "    base_model_id,\n",
    "    model_max_length=MAX_LENGTH,\n",
    "    padding_side=\"left\",\n",
    "    add_eos_token=True,\n",
    "    max_memory=max_memory\n",
    ")\n",
    "tokenizer.pad_token = tokenizer.eos_token\n",
    "\n",
    "\n",
    "def tokenize_and_pad_to_fixed_length(sample):\n",
    "    result = tokenizer(\n",
    "        sample[\"prompt\"],\n",
    "        truncation=True,\n",
    "        max_length=MAX_LENGTH,\n",
    "        padding=\"max_length\",\n",
    "    )\n",
    "    result[\"labels\"] = result[\"input_ids\"].copy()\n",
    "    return result\n",
    "\n",
    "\n",
    "tokenized_train_dataset = train_dataset.map(tokenize_and_pad_to_fixed_length)\n",
    "val_dataset = val_dataset.map(tokenize_and_pad_to_fixed_length)\n",
    "\n",
    "assert all(len(x[\"input_ids\"]) == MAX_LENGTH for x in tokenized_train_dataset)\n"
   ]
  },
  {
   "cell_type": "code",
   "execution_count": 7,
   "metadata": {},
   "outputs": [
    {
     "name": "stderr",
     "output_type": "stream",
     "text": [
      "`low_cpu_mem_usage` was None, now default to True since model is quantized.\n"
     ]
    }
   ],
   "source": [
    "quantization_config = BitsAndBytesConfig(\n",
    "    # Load the model with 4-bit quantization\n",
    "    load_in_4bit=True,\n",
    "    # Use double quantization\n",
    "    bnb_4bit_use_double_quant=True,\n",
    "    # Use 4-bit Normal Float for storing the base model weights in GPU memory\n",
    "    bnb_4bit_quant_type=\"nf4\",\n",
    "    # De-quantize the weights to 16-bit (Brain) float before the forward/backward pass\n",
    "    bnb_4bit_compute_dtype=torch.bfloat16,\n",
    ")\n",
    "\n",
    "model = AutoModelForCausalLM.from_pretrained(base_model_id, quantization_config=quantization_config,max_memory=max_memory)"
   ]
  },
  {
   "cell_type": "code",
   "execution_count": 8,
   "metadata": {},
   "outputs": [
    {
     "name": "stderr",
     "output_type": "stream",
     "text": [
      "d:\\anaconda3\\Lib\\site-packages\\auto_gptq\\nn_modules\\triton_utils\\kernels.py:410: FutureWarning: `torch.cuda.amp.custom_fwd(args...)` is deprecated. Please use `torch.amp.custom_fwd(args..., device_type='cuda')` instead.\n",
      "  @custom_fwd\n",
      "d:\\anaconda3\\Lib\\site-packages\\auto_gptq\\nn_modules\\triton_utils\\kernels.py:418: FutureWarning: `torch.cuda.amp.custom_bwd(args...)` is deprecated. Please use `torch.amp.custom_bwd(args..., device_type='cuda')` instead.\n",
      "  @custom_bwd\n",
      "d:\\anaconda3\\Lib\\site-packages\\auto_gptq\\nn_modules\\triton_utils\\kernels.py:461: FutureWarning: `torch.cuda.amp.custom_fwd(args...)` is deprecated. Please use `torch.amp.custom_fwd(args..., device_type='cuda')` instead.\n",
      "  @custom_fwd(cast_inputs=torch.float16)\n"
     ]
    },
    {
     "name": "stdout",
     "output_type": "stream",
     "text": [
      "trainable params: 37,814,272 || all params: 1,749,190,656 || trainable%: 2.1618153441588017\n"
     ]
    }
   ],
   "source": [
    "# Enabling gradient checkpointing, to make the training further efficient\n",
    "model.gradient_checkpointing_enable()\n",
    "# Set up the model for quantization-aware training e.g. casting layers, parameter freezing, etc.\n",
    "model = prepare_model_for_kbit_training(model)\n",
    "\n",
    "peft_config = LoraConfig(\n",
    "    task_type=\"CAUSAL_LM\",\n",
    "    # This is the rank of the decomposed matrices A and B to be learned during fine-tuning. A smaller number will save more GPU memory but might result in worse performance.\n",
    "    r=32,\n",
    "    # This is the coefficient for the learned ΔW factor, so the larger number will typically result in a larger behavior change after fine-tuning.\n",
    "    lora_alpha=64,\n",
    "    # Drop out ratio for the layers in LoRA adaptors A and B.\n",
    "    lora_dropout=0.1,\n",
    "    # We fine-tune all linear layers in the model. It might sound a bit large, but the trainable adapter size is still only **1.16%** of the whole model.\n",
    "    target_modules=[\n",
    "        \"q_proj\",\n",
    "        \"k_proj\",\n",
    "        \"v_proj\",\n",
    "        \"o_proj\",\n",
    "        \"gate_proj\",\n",
    "        \"up_proj\",\n",
    "        \"down_proj\",\n",
    "        \"lm_head\",\n",
    "    ],\n",
    "    # Bias parameters to train. 'none' is recommended to keep the original model performing equally when turning off the adapter.\n",
    "    bias=\"none\",\n",
    ")\n",
    "\n",
    "peft_model = get_peft_model(model, peft_config)\n",
    "peft_model.print_trainable_parameters()\n"
   ]
  },
  {
   "cell_type": "code",
   "execution_count": null,
   "metadata": {},
   "outputs": [
    {
     "name": "stderr",
     "output_type": "stream",
     "text": [
      "max_steps is given, it will override any value given in num_train_epochs\n"
     ]
    }
   ],
   "source": [
    "training_args = TrainingArguments(\n",
    "    # Replace with your output destination\n",
    "    output_dir=\"models\",\n",
    "    # For the following arguments, refer to https://huggingface.co/docs/transformers/main_classes/trainer\n",
    "    per_device_train_batch_size=2,\n",
    "    gradient_accumulation_steps=4,\n",
    "    gradient_checkpointing=True,\n",
    "    optim=\"paged_adamw_8bit\",\n",
    "    bf16=True,\n",
    "    learning_rate=2e-5,\n",
    "    lr_scheduler_type=\"constant\",\n",
    "    max_steps=50,\n",
    "    save_steps=10,\n",
    "    logging_steps=10,\n",
    "    warmup_steps=5,\n",
    "    ddp_find_unused_parameters=False,\n",
    "    do_eval=True,\n",
    "    eval_strategy='steps',\n",
    "    eval_on_start=True,\n",
    "    num_train_epochs=1\n",
    ")\n",
    "\n",
    "trainer = transformers.Trainer(\n",
    "    model=peft_model,\n",
    "    train_dataset=tokenized_train_dataset,\n",
    "    eval_dataset=val_dataset,\n",
    "    data_collator=transformers.DataCollatorForLanguageModeling(tokenizer, mlm=False),\n",
    "    args=training_args,\n",
    ")\n",
    "\n",
    "# use_cache=True is incompatible with gradient checkpointing.\n",
    "peft_model.config.use_cache = False"
   ]
  },
  {
   "cell_type": "code",
   "execution_count": 12,
   "metadata": {},
   "outputs": [
    {
     "data": {
      "application/vnd.jupyter.widget-view+json": {
       "model_id": "91f547a6a2774269bc1abdefe7277bcf",
       "version_major": 2,
       "version_minor": 0
      },
      "text/plain": [
       "  0%|          | 0/50 [00:00<?, ?it/s]"
      ]
     },
     "metadata": {},
     "output_type": "display_data"
    },
    {
     "name": "stderr",
     "output_type": "stream",
     "text": [
      "2025/03/04 15:59:27 ERROR mlflow.utils.async_logging.async_logging_queue: Run Id c2e1a0bc3d7a45c18644bbb1876def6f: Failed to log run data: Exception: Changing param values is not allowed. Param with key='logging_dir' was already logged with value='models\\runs\\Mar04_15-58-29_MSI' for run ID='c2e1a0bc3d7a45c18644bbb1876def6f'. Attempted logging new value 'models\\runs\\Mar04_15-59-25_MSI'.\n",
      "2025/03/04 15:59:27 ERROR mlflow.utils.async_logging.async_logging_queue: Run Id c2e1a0bc3d7a45c18644bbb1876def6f: Failed to log run data: Exception: Changing param values is not allowed. Param with key='max_steps' was already logged with value='500' for run ID='c2e1a0bc3d7a45c18644bbb1876def6f'. Attempted logging new value '50'.\n"
     ]
    },
    {
     "data": {
      "application/vnd.jupyter.widget-view+json": {
       "model_id": "8b8850168812444caf98b781ca6f64da",
       "version_major": 2,
       "version_minor": 0
      },
      "text/plain": [
       "  0%|          | 0/7 [00:00<?, ?it/s]"
      ]
     },
     "metadata": {},
     "output_type": "display_data"
    },
    {
     "name": "stdout",
     "output_type": "stream",
     "text": [
      "{'eval_loss': 1.7959359884262085, 'eval_runtime': 5.5054, 'eval_samples_per_second': 9.082, 'eval_steps_per_second': 1.271, 'epoch': 0}\n",
      "{'loss': 1.3191, 'grad_norm': 0.7870001196861267, 'learning_rate': 2e-05, 'epoch': 1.6}\n"
     ]
    },
    {
     "data": {
      "application/vnd.jupyter.widget-view+json": {
       "model_id": "689cc34a1dfc4118b6537b9c73b6fccd",
       "version_major": 2,
       "version_minor": 0
      },
      "text/plain": [
       "  0%|          | 0/7 [00:00<?, ?it/s]"
      ]
     },
     "metadata": {},
     "output_type": "display_data"
    },
    {
     "name": "stdout",
     "output_type": "stream",
     "text": [
      "{'eval_loss': 1.7183959484100342, 'eval_runtime': 4.8791, 'eval_samples_per_second': 10.248, 'eval_steps_per_second': 1.435, 'epoch': 1.6}\n",
      "{'loss': 1.1246, 'grad_norm': 0.8748283386230469, 'learning_rate': 2e-05, 'epoch': 3.2}\n"
     ]
    },
    {
     "data": {
      "application/vnd.jupyter.widget-view+json": {
       "model_id": "531e279484ff4acba6eba675b4d2b2c5",
       "version_major": 2,
       "version_minor": 0
      },
      "text/plain": [
       "  0%|          | 0/7 [00:00<?, ?it/s]"
      ]
     },
     "metadata": {},
     "output_type": "display_data"
    },
    {
     "name": "stdout",
     "output_type": "stream",
     "text": [
      "{'eval_loss': 1.634220838546753, 'eval_runtime': 4.7832, 'eval_samples_per_second': 10.453, 'eval_steps_per_second': 1.463, 'epoch': 3.2}\n",
      "{'loss': 0.763, 'grad_norm': 0.9286556243896484, 'learning_rate': 2e-05, 'epoch': 4.8}\n"
     ]
    },
    {
     "data": {
      "application/vnd.jupyter.widget-view+json": {
       "model_id": "dbcc25cde20b42c88f74f37906b48089",
       "version_major": 2,
       "version_minor": 0
      },
      "text/plain": [
       "  0%|          | 0/7 [00:00<?, ?it/s]"
      ]
     },
     "metadata": {},
     "output_type": "display_data"
    },
    {
     "name": "stdout",
     "output_type": "stream",
     "text": [
      "{'eval_loss': 1.5648105144500732, 'eval_runtime': 4.9451, 'eval_samples_per_second': 10.111, 'eval_steps_per_second': 1.416, 'epoch': 4.8}\n",
      "{'loss': 0.5348, 'grad_norm': 1.581502914428711, 'learning_rate': 2e-05, 'epoch': 6.4}\n"
     ]
    },
    {
     "data": {
      "application/vnd.jupyter.widget-view+json": {
       "model_id": "fdd52ab517ac4baab916057acad05167",
       "version_major": 2,
       "version_minor": 0
      },
      "text/plain": [
       "  0%|          | 0/7 [00:00<?, ?it/s]"
      ]
     },
     "metadata": {},
     "output_type": "display_data"
    },
    {
     "name": "stdout",
     "output_type": "stream",
     "text": [
      "{'eval_loss': 1.5104739665985107, 'eval_runtime': 4.8274, 'eval_samples_per_second': 10.357, 'eval_steps_per_second': 1.45, 'epoch': 6.4}\n",
      "{'loss': 0.3279, 'grad_norm': 7.132233619689941, 'learning_rate': 2e-05, 'epoch': 8.0}\n"
     ]
    },
    {
     "data": {
      "application/vnd.jupyter.widget-view+json": {
       "model_id": "490f9adac72b435080bd68f24f336c17",
       "version_major": 2,
       "version_minor": 0
      },
      "text/plain": [
       "  0%|          | 0/7 [00:00<?, ?it/s]"
      ]
     },
     "metadata": {},
     "output_type": "display_data"
    },
    {
     "name": "stdout",
     "output_type": "stream",
     "text": [
      "{'eval_loss': 1.4905585050582886, 'eval_runtime': 4.9006, 'eval_samples_per_second': 10.203, 'eval_steps_per_second': 1.428, 'epoch': 8.0}\n",
      "{'train_runtime': 267.6622, 'train_samples_per_second': 1.494, 'train_steps_per_second': 0.187, 'train_loss': 0.8139023447036743, 'epoch': 8.0}\n"
     ]
    },
    {
     "data": {
      "text/plain": [
       "TrainOutput(global_step=50, training_loss=0.8139023447036743, metrics={'train_runtime': 267.6622, 'train_samples_per_second': 1.494, 'train_steps_per_second': 0.187, 'total_flos': 1012855209984000.0, 'train_loss': 0.8139023447036743, 'epoch': 8.0})"
      ]
     },
     "execution_count": 12,
     "metadata": {},
     "output_type": "execute_result"
    }
   ],
   "source": [
    "trainer.train()"
   ]
  },
  {
   "cell_type": "code",
   "execution_count": 13,
   "metadata": {},
   "outputs": [
    {
     "name": "stderr",
     "output_type": "stream",
     "text": [
      "wandb: WARNING A graphql request initiated by the public wandb API timed out (timeout=19 sec). Create a new API with an integer timeout larger than 19, e.g., `api = wandb.Api(timeout=29)` to increase the graphql timeout.\n"
     ]
    }
   ],
   "source": [
    "trainer.model.save_pretrained('models/SmolLM2-1.7B-custom')"
   ]
  },
  {
   "cell_type": "code",
   "execution_count": 10,
   "metadata": {},
   "outputs": [
    {
     "name": "stderr",
     "output_type": "stream",
     "text": [
      "Some weights of LlamaForCausalLM were not initialized from the model checkpoint at HuggingFaceTB/SmolLM2-1.7B and are newly initialized: ['lm_head.weight']\n",
      "You should probably TRAIN this model on a down-stream task to be able to use it for predictions and inference.\n",
      "d:\\anaconda3\\Lib\\site-packages\\auto_gptq\\nn_modules\\triton_utils\\kernels.py:410: FutureWarning: `torch.cuda.amp.custom_fwd(args...)` is deprecated. Please use `torch.amp.custom_fwd(args..., device_type='cuda')` instead.\n",
      "  @custom_fwd\n",
      "d:\\anaconda3\\Lib\\site-packages\\auto_gptq\\nn_modules\\triton_utils\\kernels.py:418: FutureWarning: `torch.cuda.amp.custom_bwd(args...)` is deprecated. Please use `torch.amp.custom_bwd(args..., device_type='cuda')` instead.\n",
      "  @custom_bwd\n",
      "d:\\anaconda3\\Lib\\site-packages\\auto_gptq\\nn_modules\\triton_utils\\kernels.py:461: FutureWarning: `torch.cuda.amp.custom_fwd(args...)` is deprecated. Please use `torch.amp.custom_fwd(args..., device_type='cuda')` instead.\n",
      "  @custom_fwd(cast_inputs=torch.float16)\n"
     ]
    }
   ],
   "source": [
    "base_model = AutoModelForCausalLM.from_pretrained(base_model_id,tie_word_embeddings=False)\n",
    "# Load the PEFT configuration\n",
    "peft_model_dir = \"models/SmolLM2-1.7B-custom\"  # Directory containing PEFT adapter files\n",
    "peft_model_merged_dir = \"models/SmolLM2-1.7B-custom-merged\"\n",
    "peft_config = PeftConfig.from_pretrained(peft_model_dir)\n",
    "# Initialize the PEFT model\n",
    "peft_model = PeftModel(base_model, peft_config)\n",
    "# Merge the adapters into the base model\n",
    "merged_model = peft_model.merge_and_unload()\n",
    "# Save the merged model\n",
    "merged_model.save_pretrained(peft_model_merged_dir)\n"
   ]
  },
  {
   "cell_type": "code",
   "execution_count": 11,
   "metadata": {},
   "outputs": [
    {
     "data": {
      "application/vnd.jupyter.widget-view+json": {
       "model_id": "e5b87af4ae4e413f90b6256df5c9f514",
       "version_major": 2,
       "version_minor": 0
      },
      "text/plain": [
       "Loading checkpoint shards:   0%|          | 0/2 [00:00<?, ?it/s]"
      ]
     },
     "metadata": {},
     "output_type": "display_data"
    }
   ],
   "source": [
    "model = pipeline('text-generation',\n",
    "                  peft_model_merged_dir,\n",
    "                  tokenizer=tokenizer,\n",
    "                  device='cuda',\n",
    "                  max_length=15)"
   ]
  },
  {
   "cell_type": "code",
   "execution_count": 12,
   "metadata": {},
   "outputs": [
    {
     "name": "stderr",
     "output_type": "stream",
     "text": [
      "Truncation was not explicitly activated but `max_length` is provided a specific value, please use `truncation=True` to explicitly truncate examples to max length. Defaulting to 'longest_first' truncation strategy. If you encode pairs of sequences (GLUE-style) with the tokenizer you can select this strategy more precisely by providing a specific strategy to `truncation`.\n"
     ]
    },
    {
     "data": {
      "text/plain": [
       "[{'generated_text': 'hello OF fighter�markdown Raise holog Idea resort flap controvers flippingorialinks�'}]"
      ]
     },
     "execution_count": 12,
     "metadata": {},
     "output_type": "execute_result"
    }
   ],
   "source": [
    "model('hello')"
   ]
  }
 ],
 "metadata": {
  "kernelspec": {
   "display_name": "base",
   "language": "python",
   "name": "python3"
  },
  "language_info": {
   "codemirror_mode": {
    "name": "ipython",
    "version": 3
   },
   "file_extension": ".py",
   "mimetype": "text/x-python",
   "name": "python",
   "nbconvert_exporter": "python",
   "pygments_lexer": "ipython3",
   "version": "3.12.3"
  }
 },
 "nbformat": 4,
 "nbformat_minor": 2
}
