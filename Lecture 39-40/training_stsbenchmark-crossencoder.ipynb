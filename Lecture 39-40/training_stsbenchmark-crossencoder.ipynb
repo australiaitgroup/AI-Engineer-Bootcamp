{
 "cells": [
  {
   "cell_type": "markdown",
   "metadata": {},
   "source": [
    "The source code can be downloaded from\n",
    "\n",
    "https://github.com/UKPLab/sentence-transformers/blob/master/examples/training/cross-encoder/training_stsbenchmark.py"
   ]
  },
  {
   "cell_type": "code",
   "execution_count": null,
   "metadata": {},
   "outputs": [],
   "source": [
    "\"\"\"\n",
    "This examples trains a CrossEncoder for the STSbenchmark task. A CrossEncoder takes a sentence pair\n",
    "as input and outputs a label. Here, it output a continuous labels 0...1 to indicate the similarity between the input pair.\n",
    "\n",
    "It does NOT produce a sentence embedding and does NOT work for individual sentences.\n",
    "\n",
    "Usage:\n",
    "python training_stsbenchmark.py\n",
    "\"\"\"\n",
    "\n",
    "import csv\n",
    "import gzip\n",
    "import logging\n",
    "import math\n",
    "import os\n",
    "from datetime import datetime\n",
    "from torch.utils.data import DataLoader\n",
    "\n",
    "from sentence_transformers import InputExample, LoggingHandler, util\n",
    "from sentence_transformers.cross_encoder import CrossEncoder\n",
    "from sentence_transformers.cross_encoder.evaluation import CECorrelationEvaluator\n"
   ]
  },
  {
   "cell_type": "code",
   "execution_count": null,
   "metadata": {},
   "outputs": [],
   "source": [
    "\n",
    "#### Just some code to print debug information to stdout\n",
    "logging.basicConfig(\n",
    "    format=\"%(asctime)s - %(message)s\", datefmt=\"%Y-%m-%d %H:%M:%S\", level=logging.INFO, handlers=[LoggingHandler()]\n",
    ")\n",
    "logger = logging.getLogger(__name__)\n",
    "#### /print debug information to stdout\n",
    "\n"
   ]
  },
  {
   "cell_type": "code",
   "execution_count": null,
   "metadata": {},
   "outputs": [],
   "source": [
    "# STS Benchmark (Semantic Textual Similarity)\n",
    "# STS Benchmark comprises a selection of the English datasets \n",
    "# used in the STS tasks organized in the context of SemEval between 2012 and 2017. \n",
    "# The selection of datasets include text from image captions, news headlines and user forums.\n",
    "\n",
    "# Check if dataset exists. If not, download and extract  it\n",
    "sts_dataset_path = \"datasets/stsbenchmark.tsv.gz\"\n",
    "\n",
    "if not os.path.exists(sts_dataset_path):\n",
    "    util.http_get(\"https://sbert.net/datasets/stsbenchmark.tsv.gz\", sts_dataset_path)\n",
    "\n",
    "# refer to https://paperswithcode.com/dataset/sts-benchmark\n",
    "# for more information about the dataset"
   ]
  },
  {
   "cell_type": "code",
   "execution_count": null,
   "metadata": {},
   "outputs": [],
   "source": [
    "# Define our Cross-Encoder\n",
    "train_batch_size = 16\n",
    "num_epochs = 4\n",
    "model_save_path = \"output/training_stsbenchmark-\" + datetime.now().strftime(\"%Y-%m-%d_%H-%M-%S\")\n"
   ]
  },
  {
   "cell_type": "code",
   "execution_count": null,
   "metadata": {},
   "outputs": [],
   "source": [
    "# We use distilroberta-base as base model and set num_labels=1, which predicts a continuous score between 0 and 1\n",
    "model = CrossEncoder(\"distilroberta-base\", num_labels=1)\n"
   ]
  },
  {
   "cell_type": "code",
   "execution_count": null,
   "metadata": {},
   "outputs": [],
   "source": [
    "\n",
    "# Read STSb dataset\n",
    "logger.info(\"Read STSbenchmark train dataset\")\n",
    "\n",
    "train_samples = []\n",
    "dev_samples = []\n",
    "test_samples = []\n",
    "with gzip.open(sts_dataset_path, \"rt\", encoding=\"utf8\") as fIn:\n",
    "    reader = csv.DictReader(fIn, delimiter=\"\\t\", quoting=csv.QUOTE_NONE)\n",
    "    for row in reader:\n",
    "        score = float(row[\"score\"]) / 5.0  # Normalize score to range 0 ... 1\n",
    "\n",
    "        if row[\"split\"] == \"dev\":\n",
    "            dev_samples.append(InputExample(texts=[row[\"sentence1\"], row[\"sentence2\"]], label=score))\n",
    "        elif row[\"split\"] == \"test\":\n",
    "            test_samples.append(InputExample(texts=[row[\"sentence1\"], row[\"sentence2\"]], label=score))\n",
    "        else:\n",
    "            # As we want to get symmetric scores, i.e. CrossEncoder(A,B) = CrossEncoder(B,A), we pass both combinations to the train set\n",
    "            train_samples.append(InputExample(texts=[row[\"sentence1\"], row[\"sentence2\"]], label=score))\n",
    "            train_samples.append(InputExample(texts=[row[\"sentence2\"], row[\"sentence1\"]], label=score))\n"
   ]
  },
  {
   "cell_type": "code",
   "execution_count": null,
   "metadata": {},
   "outputs": [],
   "source": [
    "train_samples"
   ]
  },
  {
   "cell_type": "code",
   "execution_count": null,
   "metadata": {},
   "outputs": [],
   "source": [
    "# We wrap train_samples (which is a List[InputExample]) into a pytorch DataLoader\n",
    "train_dataloader = DataLoader(train_samples, shuffle=True, batch_size=train_batch_size)"
   ]
  },
  {
   "cell_type": "code",
   "execution_count": null,
   "metadata": {},
   "outputs": [],
   "source": [
    "# We add an evaluator, which evaluates the performance during training\n",
    "evaluator = CECorrelationEvaluator.from_input_examples(dev_samples, name=\"sts-dev\")\n",
    "\n",
    "# This evaluator can be used with the CrossEncoder class. \n",
    "# Given sentence pairs and continuous scores, \n",
    "# it compute the pearson & spearman correlation between the predicted score for the sentence pair and the gold score"
   ]
  },
  {
   "cell_type": "code",
   "execution_count": null,
   "metadata": {},
   "outputs": [],
   "source": [
    "# Configure the training\n",
    "warmup_steps = math.ceil(len(train_dataloader) * num_epochs * 0.1)  # 10% of train data for warm-up\n",
    "logger.info(f\"Warmup-steps: {warmup_steps}\")"
   ]
  },
  {
   "cell_type": "code",
   "execution_count": null,
   "metadata": {},
   "outputs": [],
   "source": [
    "# Train the model\n",
    "model.fit(\n",
    "    train_dataloader=train_dataloader,\n",
    "    evaluator=evaluator,\n",
    "    epochs=num_epochs,\n",
    "    warmup_steps=warmup_steps,\n",
    "    output_path=model_save_path,\n",
    ")"
   ]
  },
  {
   "cell_type": "code",
   "execution_count": null,
   "metadata": {},
   "outputs": [],
   "source": [
    "##### Load model and eval on test set\n",
    "# model = CrossEncoder(model_save_path)"
   ]
  },
  {
   "cell_type": "code",
   "execution_count": null,
   "metadata": {},
   "outputs": [],
   "source": [
    "evaluator = CECorrelationEvaluator.from_input_examples(test_samples, name=\"sts-test\")\n",
    "evaluator(model)"
   ]
  },
  {
   "cell_type": "code",
   "execution_count": null,
   "metadata": {},
   "outputs": [],
   "source": [
    "evaluator(model)"
   ]
  }
 ],
 "metadata": {
  "kernelspec": {
   "display_name": "st-venv",
   "language": "python",
   "name": "python3"
  },
  "language_info": {
   "codemirror_mode": {
    "name": "ipython",
    "version": 3
   },
   "file_extension": ".py",
   "mimetype": "text/x-python",
   "name": "python",
   "nbconvert_exporter": "python",
   "pygments_lexer": "ipython3",
   "version": "3.12.8"
  }
 },
 "nbformat": 4,
 "nbformat_minor": 2
}
